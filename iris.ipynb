{
 "cells": [
  {
   "cell_type": "code",
   "execution_count": 3,
   "id": "a207f302-b0ec-40c4-a90e-1d56a6d9e8f5",
   "metadata": {},
   "outputs": [
    {
     "name": "stdout",
     "output_type": "stream",
     "text": [
      "Model saved as iris_model.pkl\n"
     ]
    }
   ],
   "source": [
    "#save model.py\n",
    "from sklearn.datasets import load_iris\n",
    "from sklearn.ensemble import RandomForestClassifier\n",
    "import joblib\n",
    "\n",
    "# Load fatase0t\n",
    "iris=load_iris()\n",
    "X,y=iris.data,iris.target\n",
    " # train model\n",
    "model=RandomForestClassifier()\n",
    "model.fit(X,y)\n",
    "#save mdoel\n",
    "joblib.dump(model,'iris_model.pkl')\n",
    "print(\"Model saved as iris_model.pkl\")"
   ]
  },
  {
   "cell_type": "code",
   "execution_count": null,
   "id": "a2224a3a-ffe9-4ba1-909d-4ab910549034",
   "metadata": {},
   "outputs": [],
   "source": []
  }
 ],
 "metadata": {
  "kernelspec": {
   "display_name": "Python 3 (ipykernel)",
   "language": "python",
   "name": "python3"
  },
  "language_info": {
   "codemirror_mode": {
    "name": "ipython",
    "version": 3
   },
   "file_extension": ".py",
   "mimetype": "text/x-python",
   "name": "python",
   "nbconvert_exporter": "python",
   "pygments_lexer": "ipython3",
   "version": "3.12.7"
  }
 },
 "nbformat": 4,
 "nbformat_minor": 5
}
